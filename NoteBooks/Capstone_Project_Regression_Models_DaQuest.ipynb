{
 "cells": [
  {
   "cell_type": "code",
   "execution_count": 35,
   "id": "34aa24d6",
   "metadata": {},
   "outputs": [],
   "source": [
    "import pandas as pd\n",
    "import numpy as np\n",
    "from sklearn.model_selection import train_test_split\n",
    "from sklearn.metrics import mean_absolute_error, mean_squared_error\n",
    "from sklearn.preprocessing import StandardScaler\n",
    "\n",
    "#basline model\n",
    "from sklearn.dummy import DummyRegressor\n",
    "\n",
    "# This is for regression\n",
    "from sklearn.linear_model import LinearRegression\n",
    "from sklearn.ensemble import RandomForestRegressor\n",
    "from sklearn.neighbors import KNeighborsRegressor\n",
    "import xgboost as xgb\n",
    "from xgboost import XGBClassifier\n",
    "from sklearn.ensemble import GradientBoostingRegressor\n",
    "from sklearn.metrics import r2_score,mean_absolute_error,mean_squared_error\n",
    "\n",
    "# This is for Pipline\n",
    "from sklearn.pipeline import Pipeline \n",
    "from sklearn.pipeline import make_pipeline\n",
    "from sklearn.compose import ColumnTransformer\n",
    "from sklearn.impute import SimpleImputer\n",
    "\n",
    "# we used for the Grid search model\n",
    "from sklearn.model_selection import GridSearchCV \n",
    "from sklearn.model_selection import RandomizedSearchCV"
   ]
  },
  {
   "cell_type": "markdown",
   "id": "bf6f68d4",
   "metadata": {},
   "source": [
    "### Read the dataset"
   ]
  },
  {
   "cell_type": "code",
   "execution_count": 10,
   "id": "eead0560",
   "metadata": {},
   "outputs": [],
   "source": [
    "tadawul_stcks = pd.read_csv('Tadawul_stcks_clean.csv')"
   ]
  },
  {
   "cell_type": "code",
   "execution_count": 11,
   "id": "1c5b3e39",
   "metadata": {},
   "outputs": [
    {
     "data": {
      "text/html": [
       "<div>\n",
       "<style scoped>\n",
       "    .dataframe tbody tr th:only-of-type {\n",
       "        vertical-align: middle;\n",
       "    }\n",
       "\n",
       "    .dataframe tbody tr th {\n",
       "        vertical-align: top;\n",
       "    }\n",
       "\n",
       "    .dataframe thead th {\n",
       "        text-align: right;\n",
       "    }\n",
       "</style>\n",
       "<table border=\"1\" class=\"dataframe\">\n",
       "  <thead>\n",
       "    <tr style=\"text-align: right;\">\n",
       "      <th></th>\n",
       "      <th>trading_name</th>\n",
       "      <th>sector</th>\n",
       "      <th>date</th>\n",
       "      <th>open_price</th>\n",
       "      <th>high_price</th>\n",
       "      <th>low_price</th>\n",
       "      <th>close_price</th>\n",
       "      <th>change</th>\n",
       "      <th>perc_Change</th>\n",
       "      <th>volume_traded</th>\n",
       "      <th>value_traded</th>\n",
       "      <th>num_trades</th>\n",
       "      <th>Year</th>\n",
       "      <th>month</th>\n",
       "      <th>day</th>\n",
       "      <th>Change_category</th>\n",
       "    </tr>\n",
       "  </thead>\n",
       "  <tbody>\n",
       "    <tr>\n",
       "      <th>0</th>\n",
       "      <td>SARCO</td>\n",
       "      <td>Energy</td>\n",
       "      <td>2020-03-05</td>\n",
       "      <td>35.55</td>\n",
       "      <td>35.85</td>\n",
       "      <td>34.90</td>\n",
       "      <td>34.90</td>\n",
       "      <td>-0.40</td>\n",
       "      <td>-1.13</td>\n",
       "      <td>436609.0</td>\n",
       "      <td>15399073.50</td>\n",
       "      <td>804.0</td>\n",
       "      <td>2020</td>\n",
       "      <td>March</td>\n",
       "      <td>Thursday</td>\n",
       "      <td>Bad Change</td>\n",
       "    </tr>\n",
       "    <tr>\n",
       "      <th>1</th>\n",
       "      <td>SARCO</td>\n",
       "      <td>Energy</td>\n",
       "      <td>2020-03-04</td>\n",
       "      <td>34.70</td>\n",
       "      <td>35.65</td>\n",
       "      <td>34.50</td>\n",
       "      <td>35.30</td>\n",
       "      <td>0.25</td>\n",
       "      <td>0.71</td>\n",
       "      <td>737624.0</td>\n",
       "      <td>25981391.35</td>\n",
       "      <td>1268.0</td>\n",
       "      <td>2020</td>\n",
       "      <td>March</td>\n",
       "      <td>Wednesday</td>\n",
       "      <td>Good Change</td>\n",
       "    </tr>\n",
       "    <tr>\n",
       "      <th>2</th>\n",
       "      <td>SARCO</td>\n",
       "      <td>Energy</td>\n",
       "      <td>2020-03-03</td>\n",
       "      <td>34.70</td>\n",
       "      <td>35.15</td>\n",
       "      <td>34.70</td>\n",
       "      <td>35.05</td>\n",
       "      <td>1.05</td>\n",
       "      <td>3.09</td>\n",
       "      <td>489831.0</td>\n",
       "      <td>17116413.40</td>\n",
       "      <td>854.0</td>\n",
       "      <td>2020</td>\n",
       "      <td>March</td>\n",
       "      <td>Tuesday</td>\n",
       "      <td>Good Change</td>\n",
       "    </tr>\n",
       "    <tr>\n",
       "      <th>3</th>\n",
       "      <td>SARCO</td>\n",
       "      <td>Energy</td>\n",
       "      <td>2020-03-02</td>\n",
       "      <td>35.20</td>\n",
       "      <td>35.65</td>\n",
       "      <td>34.00</td>\n",
       "      <td>34.00</td>\n",
       "      <td>-0.55</td>\n",
       "      <td>-1.59</td>\n",
       "      <td>736157.0</td>\n",
       "      <td>25858700.60</td>\n",
       "      <td>1242.0</td>\n",
       "      <td>2020</td>\n",
       "      <td>March</td>\n",
       "      <td>Monday</td>\n",
       "      <td>Bad Change</td>\n",
       "    </tr>\n",
       "    <tr>\n",
       "      <th>4</th>\n",
       "      <td>SARCO</td>\n",
       "      <td>Energy</td>\n",
       "      <td>2020-03-01</td>\n",
       "      <td>35.35</td>\n",
       "      <td>35.60</td>\n",
       "      <td>34.25</td>\n",
       "      <td>34.55</td>\n",
       "      <td>-2.05</td>\n",
       "      <td>-5.60</td>\n",
       "      <td>738685.0</td>\n",
       "      <td>25747967.55</td>\n",
       "      <td>1625.0</td>\n",
       "      <td>2020</td>\n",
       "      <td>March</td>\n",
       "      <td>Sunday</td>\n",
       "      <td>Bad Change</td>\n",
       "    </tr>\n",
       "  </tbody>\n",
       "</table>\n",
       "</div>"
      ],
      "text/plain": [
       "  trading_name  sector        date  open_price  high_price  low_price  \\\n",
       "0        SARCO  Energy  2020-03-05       35.55       35.85      34.90   \n",
       "1        SARCO  Energy  2020-03-04       34.70       35.65      34.50   \n",
       "2        SARCO  Energy  2020-03-03       34.70       35.15      34.70   \n",
       "3        SARCO  Energy  2020-03-02       35.20       35.65      34.00   \n",
       "4        SARCO  Energy  2020-03-01       35.35       35.60      34.25   \n",
       "\n",
       "   close_price  change  perc_Change  volume_traded  value_traded  num_trades  \\\n",
       "0        34.90   -0.40        -1.13       436609.0   15399073.50       804.0   \n",
       "1        35.30    0.25         0.71       737624.0   25981391.35      1268.0   \n",
       "2        35.05    1.05         3.09       489831.0   17116413.40       854.0   \n",
       "3        34.00   -0.55        -1.59       736157.0   25858700.60      1242.0   \n",
       "4        34.55   -2.05        -5.60       738685.0   25747967.55      1625.0   \n",
       "\n",
       "   Year  month        day Change_category  \n",
       "0  2020  March   Thursday      Bad Change  \n",
       "1  2020  March  Wednesday     Good Change  \n",
       "2  2020  March    Tuesday     Good Change  \n",
       "3  2020  March     Monday      Bad Change  \n",
       "4  2020  March     Sunday      Bad Change  "
      ]
     },
     "execution_count": 11,
     "metadata": {},
     "output_type": "execute_result"
    }
   ],
   "source": [
    "# look frist five rows \n",
    "tadawul_stcks.head()"
   ]
  },
  {
   "cell_type": "markdown",
   "id": "a7d10af0",
   "metadata": {},
   "source": [
    "# ML model"
   ]
  },
  {
   "cell_type": "markdown",
   "id": "685b7eb0",
   "metadata": {},
   "source": [
    "## Select the feature and target"
   ]
  },
  {
   "cell_type": "code",
   "execution_count": 12,
   "id": "c9cc9ef2",
   "metadata": {},
   "outputs": [],
   "source": [
    "target = 'close_price' # Target Varible\n",
    "features = ['open_price','low_price','change']\n",
    "\n",
    "\n",
    "X = tadawul_stcks[features]\n",
    "y = tadawul_stcks[target]"
   ]
  },
  {
   "cell_type": "markdown",
   "id": "4bfd076b",
   "metadata": {},
   "source": [
    "## Standard Scaler"
   ]
  },
  {
   "cell_type": "code",
   "execution_count": 13,
   "id": "a692738e",
   "metadata": {},
   "outputs": [],
   "source": [
    "scaler = StandardScaler()\n",
    "scaled_df = scaler.fit_transform(X)"
   ]
  },
  {
   "cell_type": "markdown",
   "id": "7f4e8b5a",
   "metadata": {},
   "source": [
    "## Split the data"
   ]
  },
  {
   "cell_type": "code",
   "execution_count": 14,
   "id": "24200141",
   "metadata": {},
   "outputs": [],
   "source": [
    "# split data into train and test \n",
    "# select random state = 42\n",
    "X_train, X_test, y_train, y_test = train_test_split(X, y, random_state=42)"
   ]
  },
  {
   "cell_type": "markdown",
   "id": "203ae4ef",
   "metadata": {},
   "source": [
    "## Baseline model"
   ]
  },
  {
   "cell_type": "code",
   "execution_count": 15,
   "id": "5d0fd4e4",
   "metadata": {},
   "outputs": [
    {
     "name": "stdout",
     "output_type": "stream",
     "text": [
      "baseline model score: -1.33849496373184e-05\n"
     ]
    }
   ],
   "source": [
    "# we will use the DummyRegressor model for the baseline\n",
    "baseline_model = DummyRegressor()\n",
    "baseline_model.fit(X_train,y_train)\n",
    "baseline_model_pred =  baseline_model.predict(X_test)\n",
    "\n",
    "print(f\"baseline model score: {r2_score(y_test, baseline_model_pred)}\")"
   ]
  },
  {
   "cell_type": "code",
   "execution_count": 16,
   "id": "fb3b25aa",
   "metadata": {},
   "outputs": [
    {
     "name": "stdout",
     "output_type": "stream",
     "text": [
      "R Squared: -1.33849496373184e-05\n",
      "MSE: 7217.246782384993\n",
      "MAE: 28.401060673463085\n",
      "RMSE: 84.95438059561728\n",
      "Adjusted R Squared: -3.409573535839705e-05\n"
     ]
    }
   ],
   "source": [
    "# Cost Function for baseline model\n",
    "Adj_r2 = 1 - (1-r2_score(y_test, baseline_model_pred)) * (len(y_test)-1)/(len(y_test)-X_test.shape[1]-1)\n",
    "print(\"R Squared:\",r2_score(y_test, baseline_model_pred))\n",
    "print(\"MSE:\",mean_squared_error(y_test, baseline_model_pred))\n",
    "print(\"MAE:\",mean_absolute_error(y_test, baseline_model_pred))\n",
    "print(\"RMSE:\",np.sqrt(mean_squared_error(y_test, baseline_model_pred)))\n",
    "print(\"Adjusted R Squared:\",Adj_r2)"
   ]
  },
  {
   "cell_type": "markdown",
   "id": "9f2ae201",
   "metadata": {},
   "source": [
    "#### The output:\n",
    "#### the accuracy of basline model is low and the error it's very high . So all Train model should be better than the basline model.\n"
   ]
  },
  {
   "cell_type": "markdown",
   "id": "b90e3231",
   "metadata": {},
   "source": [
    "# Train Model"
   ]
  },
  {
   "cell_type": "markdown",
   "id": "bf3b1ebb",
   "metadata": {},
   "source": [
    "### 1st Liner Regression Model "
   ]
  },
  {
   "cell_type": "code",
   "execution_count": 17,
   "id": "cf8c9d4b",
   "metadata": {},
   "outputs": [],
   "source": [
    "#create the model\n",
    "liner = LinearRegression()\n",
    "# fit the model using X train and y train\n",
    "liner.fit(X_train , y_train)\n",
    "# using X test to make our predication\n",
    "linear_pred = liner.predict(X_test)"
   ]
  },
  {
   "cell_type": "markdown",
   "id": "b47a8675",
   "metadata": {},
   "source": [
    "### Train and Test score"
   ]
  },
  {
   "cell_type": "code",
   "execution_count": 18,
   "id": "789f96d5",
   "metadata": {},
   "outputs": [
    {
     "name": "stdout",
     "output_type": "stream",
     "text": [
      "Test score: 0.999605900045618\n",
      "Train score: 0.9993704661079523\n"
     ]
    }
   ],
   "source": [
    "print(f\"Test score: {liner.score(X_test, y_test)}\")\n",
    "print(f\"Train score: {liner.score(X_train, y_train)}\")"
   ]
  },
  {
   "cell_type": "markdown",
   "id": "d8a297ec",
   "metadata": {},
   "source": [
    "# --------------------------------------------------------------------------------------"
   ]
  },
  {
   "cell_type": "markdown",
   "id": "8b8eea6d",
   "metadata": {},
   "source": [
    "### 2nd Random Forest regression"
   ]
  },
  {
   "cell_type": "code",
   "execution_count": 19,
   "id": "4ae1dee7",
   "metadata": {},
   "outputs": [],
   "source": [
    "# create the random model\n",
    "# set the num of estimators = 10\n",
    "# max depth is 4 \n",
    "random_reg = RandomForestRegressor(n_estimators = 10, max_depth = 4, criterion = 'mse')\n",
    "# fit the model using X train and Y train\n",
    "random_reg.fit(X_train ,y_train)\n",
    "# make our predication using X test\n",
    "random_predict =random_reg.predict(X_test)\n"
   ]
  },
  {
   "cell_type": "markdown",
   "id": "3c3f93c2",
   "metadata": {},
   "source": [
    "### Train and Test Score"
   ]
  },
  {
   "cell_type": "code",
   "execution_count": 20,
   "id": "4d4d1c55",
   "metadata": {},
   "outputs": [
    {
     "name": "stdout",
     "output_type": "stream",
     "text": [
      "Test score: 0.9877141224669737\n",
      "Train score: 0.9876510005758788\n"
     ]
    }
   ],
   "source": [
    "print(f\"Test score: {random_reg.score(X_test, y_test)}\")\n",
    "print(f\"Train score: {random_reg.score(X_train, y_train)}\")"
   ]
  },
  {
   "cell_type": "markdown",
   "id": "c9afeca4",
   "metadata": {},
   "source": [
    "# ---------------------------------------------------------------------------------------"
   ]
  },
  {
   "cell_type": "markdown",
   "id": "24da8259",
   "metadata": {},
   "source": [
    "### 3rd KNN  Regression model"
   ]
  },
  {
   "cell_type": "code",
   "execution_count": 21,
   "id": "802c4ded",
   "metadata": {},
   "outputs": [],
   "source": [
    "# Creat the KNN model\n",
    "knn_reg = KNeighborsRegressor()\n",
    "# use X train and y train\n",
    "knn_reg.fit(X_train,y_train)\n",
    "# make our predication using X test\n",
    "preds_knn_reg = knn_reg.predict(X_test)\n"
   ]
  },
  {
   "cell_type": "markdown",
   "id": "eb06e940",
   "metadata": {},
   "source": [
    "### Train and Test Score"
   ]
  },
  {
   "cell_type": "code",
   "execution_count": 22,
   "id": "472cfa19",
   "metadata": {},
   "outputs": [
    {
     "name": "stdout",
     "output_type": "stream",
     "text": [
      "Test score: 0.9995150671521293\n",
      "Train score: 0.9992696578602894\n"
     ]
    }
   ],
   "source": [
    "print(f\"Test score: {knn_reg.score(X_test, y_test)}\")\n",
    "print(f\"Train score: {knn_reg.score(X_train, y_train)}\")"
   ]
  },
  {
   "cell_type": "markdown",
   "id": "a83a9082",
   "metadata": {},
   "source": [
    "# ----------------------------------------------------------------------------------------"
   ]
  },
  {
   "cell_type": "markdown",
   "id": "4e65b1a4",
   "metadata": {},
   "source": [
    "### 4th GBR  Regression model"
   ]
  },
  {
   "cell_type": "code",
   "execution_count": 23,
   "id": "8da76c6e",
   "metadata": {},
   "outputs": [],
   "source": [
    "gbr_reg = GradientBoostingRegressor()\n",
    "# fit the model\n",
    "gbr_reg.fit(X_train,y_train)\n",
    "# make our predication using X test\n",
    "preds_gbr_reg = gbr_reg.predict(X_test)"
   ]
  },
  {
   "cell_type": "markdown",
   "id": "5ef53fd9",
   "metadata": {},
   "source": [
    "## Train and test score"
   ]
  },
  {
   "cell_type": "code",
   "execution_count": 24,
   "id": "60a1c6c4",
   "metadata": {},
   "outputs": [
    {
     "name": "stdout",
     "output_type": "stream",
     "text": [
      "Test score: 0.9992229162311949\n",
      "Train score: 0.999618349600064\n"
     ]
    }
   ],
   "source": [
    "print(f\"Test score: {gbr_reg.score(X_test, y_test)}\")\n",
    "print(f\"Train score: {gbr_reg.score(X_train, y_train)}\")"
   ]
  },
  {
   "cell_type": "markdown",
   "id": "4d488125",
   "metadata": {},
   "source": [
    "# -----------------------------------------------------------------------------------------"
   ]
  },
  {
   "cell_type": "markdown",
   "id": "1114d756",
   "metadata": {},
   "source": [
    "### 5th XGB Regression Model"
   ]
  },
  {
   "cell_type": "code",
   "execution_count": 25,
   "id": "b7cb5ec5",
   "metadata": {},
   "outputs": [
    {
     "name": "stdout",
     "output_type": "stream",
     "text": [
      "[12:13:02] WARNING: c:\\windows\\temp\\abs_557yfx631l\\croots\\recipe\\xgboost-split_1659548953302\\work\\src\\objective\\regression_obj.cu:188: reg:linear is now deprecated in favor of reg:squarederror.\n"
     ]
    }
   ],
   "source": [
    "# create the model\n",
    "xgb_reg = xgb.XGBRegressor(objective = \"reg:linear\",\n",
    "                           n_estimators = 75,\n",
    "                           subsample = 0.75,\n",
    "                           max_depth = 7)\n",
    "# fit the model using X train , y train\n",
    "xgb_reg.fit(X_train , y_train)\n",
    "#make our predication using X test\n",
    "xgb_pred =xgb_reg.predict(X_test)"
   ]
  },
  {
   "cell_type": "code",
   "execution_count": 26,
   "id": "8b04bbec",
   "metadata": {},
   "outputs": [
    {
     "name": "stdout",
     "output_type": "stream",
     "text": [
      "Test score: 0.9991932701703619\n",
      "Train score: 0.9999117619114631\n"
     ]
    }
   ],
   "source": [
    "print(f\"Test score: {xgb_reg.score(X_test, y_test)}\")\n",
    "print(f\"Train score: {xgb_reg.score(X_train, y_train)}\")"
   ]
  },
  {
   "cell_type": "markdown",
   "id": "d997fa46",
   "metadata": {},
   "source": [
    "# ----------------------------------------------------------------------------------------"
   ]
  },
  {
   "cell_type": "markdown",
   "id": "75691ae4",
   "metadata": {},
   "source": [
    "# Model Evaluation\n",
    "\n"
   ]
  },
  {
   "cell_type": "markdown",
   "id": "06509057",
   "metadata": {},
   "source": [
    "### Create the Cost Function"
   ]
  },
  {
   "cell_type": "markdown",
   "id": "11f1135b",
   "metadata": {},
   "source": [
    "####  This include  MSE, MAE,RMSE, R2  "
   ]
  },
  {
   "cell_type": "code",
   "execution_count": 27,
   "id": "2e6dbc50",
   "metadata": {},
   "outputs": [],
   "source": [
    "# Create cost function that display all the cost functions for the regression models\n",
    "def cost_function(pred):\n",
    "    Adj_r2 = 1 - (1-r2_score(y_test, pred)) * (len(y_test)-1)/(len(y_test)-X_test.shape[1]-1)\n",
    "    print(\"R Squared:\",r2_score(y_test, pred))\n",
    "    print(\"MSE:\",mean_squared_error(y_test, pred))\n",
    "    print(\"MAE:\",mean_absolute_error(y_test, pred))\n",
    "    print(\"RMSE:\",np.sqrt(mean_squared_error(y_test, pred)))\n",
    "    print(\"Adjusted R Squared:\",Adj_r2)\n",
    "    "
   ]
  },
  {
   "cell_type": "markdown",
   "id": "f6f0cc71",
   "metadata": {},
   "source": [
    "###  1st Model  Evaluation - Liner Regression Model"
   ]
  },
  {
   "cell_type": "code",
   "execution_count": 28,
   "id": "2c8ddbd8",
   "metadata": {},
   "outputs": [
    {
     "name": "stdout",
     "output_type": "stream",
     "text": [
      "R Squared: 0.999605900045618\n",
      "MSE: 2.844278557176044\n",
      "MAE: 0.4264164928631083\n",
      "RMSE: 1.6864989051808021\n",
      "Adjusted R Squared: 0.9996058918836075\n"
     ]
    }
   ],
   "source": [
    "## Call the funcation\n",
    "cost_function(linear_pred)"
   ]
  },
  {
   "cell_type": "markdown",
   "id": "812c8dc0",
   "metadata": {},
   "source": [
    "#### The output:\n",
    "#### the accuracy of this model is 99 % which is high and better than the baseline accuracy\n",
    "#### MSE ,  MAE  and RMSE error it is very low \n"
   ]
  },
  {
   "cell_type": "markdown",
   "id": "69b44a73",
   "metadata": {},
   "source": [
    "# ----------------------------------------------------------------------------------------"
   ]
  },
  {
   "cell_type": "markdown",
   "id": "4b4bb199",
   "metadata": {},
   "source": [
    "###  2nd Model  Evaluation - Random Forest Model"
   ]
  },
  {
   "cell_type": "code",
   "execution_count": 29,
   "id": "0edc5c9d",
   "metadata": {},
   "outputs": [
    {
     "name": "stdout",
     "output_type": "stream",
     "text": [
      "R Squared: 0.9877141224669737\n",
      "MSE: 88.66902326359956\n",
      "MAE: 5.829261752002699\n",
      "RMSE: 9.416423060992935\n",
      "Adjusted R Squared: 0.9877138680202024\n"
     ]
    }
   ],
   "source": [
    "## Call the funcation\n",
    "cost_function(random_predict)"
   ]
  },
  {
   "cell_type": "markdown",
   "id": "6266aaa6",
   "metadata": {},
   "source": [
    "#### the output:\n",
    "#### the acuraccy of Random forest is 98 which is better than the baseline Model and less than the liner regression model. \n",
    "#### MSE , MAE and RMSE are high than liner regression with value 84 and the 5.1 , 9.3"
   ]
  },
  {
   "cell_type": "markdown",
   "id": "5f1cf8d0",
   "metadata": {},
   "source": [
    "# ----------------------------------------------------------------------------------------"
   ]
  },
  {
   "cell_type": "markdown",
   "id": "fbadaa8e",
   "metadata": {},
   "source": [
    "###  3rd Model  Evaluation -KNN Model"
   ]
  },
  {
   "cell_type": "code",
   "execution_count": 30,
   "id": "2bc29d2a",
   "metadata": {},
   "outputs": [
    {
     "name": "stdout",
     "output_type": "stream",
     "text": [
      "R Squared: 0.9995150671521293\n",
      "MSE: 3.4998331908765845\n",
      "MAE: 0.30185866158582897\n",
      "RMSE: 1.8707841112422845\n",
      "Adjusted R Squared: 0.9995150571089235\n"
     ]
    }
   ],
   "source": [
    "## Call the funcation\n",
    "cost_function(preds_knn_reg)\n"
   ]
  },
  {
   "cell_type": "markdown",
   "id": "f46e97b3",
   "metadata": {},
   "source": [
    "#### The output :\n",
    "#### The accuracy of KNN model is 99 % which is good accuracy and better than the baseline model and Random forest. Also , MSE ,  MAE and RMSE errors are lower than the random forest ."
   ]
  },
  {
   "cell_type": "markdown",
   "id": "76b8c544",
   "metadata": {},
   "source": [
    "# ----------------------------------------------------------------------------------------"
   ]
  },
  {
   "cell_type": "markdown",
   "id": "077643e5",
   "metadata": {},
   "source": [
    "###  4th Model  Evaluation -GBR Model"
   ]
  },
  {
   "cell_type": "code",
   "execution_count": 31,
   "id": "c39b210b",
   "metadata": {},
   "outputs": [
    {
     "name": "stdout",
     "output_type": "stream",
     "text": [
      "R Squared: 0.9992229162311949\n",
      "MSE: 5.608330262834369\n",
      "MAE: 0.671718863606776\n",
      "RMSE: 2.368191348441753\n",
      "Adjusted R Squared: 0.9992229001373949\n"
     ]
    }
   ],
   "source": [
    "## Call the funcation\n",
    "cost_function(preds_gbr_reg)"
   ]
  },
  {
   "cell_type": "markdown",
   "id": "ccbe6c91",
   "metadata": {},
   "source": [
    "#### The output:\n",
    "#### The accuracy score of the GBR model is 99 which is better than the baseline and the same KNN  and linear regression model. Also, MSE , MAE, and RMSE errors are a littel increase than the KNN model"
   ]
  },
  {
   "cell_type": "markdown",
   "id": "beba37e7",
   "metadata": {},
   "source": [
    "# ----------------------------------------------------------------------------------------"
   ]
  },
  {
   "cell_type": "markdown",
   "id": "d94735df",
   "metadata": {},
   "source": [
    "###  5th Model  Evaluation -XGB Model"
   ]
  },
  {
   "cell_type": "code",
   "execution_count": 32,
   "id": "fdfa5784",
   "metadata": {},
   "outputs": [
    {
     "name": "stdout",
     "output_type": "stream",
     "text": [
      "R Squared: 0.9991932701703619\n",
      "MSE: 5.822290336146822\n",
      "MAE: 0.3990513375335785\n",
      "RMSE: 2.412942257109942\n",
      "Adjusted R Squared: 0.9991932534625768\n"
     ]
    }
   ],
   "source": [
    "## Call the funcation\n",
    "cost_function(xgb_pred)\n"
   ]
  },
  {
   "cell_type": "markdown",
   "id": "f75f0f63",
   "metadata": {},
   "source": [
    "#### The accuracy score of the XGB model is 99 which is better than the baseline model and the same all models expect random forest  also the MSE, MAE, and RSME error low "
   ]
  },
  {
   "cell_type": "markdown",
   "id": "c49f0391",
   "metadata": {},
   "source": [
    "##  Summary Results"
   ]
  },
  {
   "cell_type": "code",
   "execution_count": 33,
   "id": "885f85ef",
   "metadata": {},
   "outputs": [],
   "source": [
    "# create a data frame to combine all model results\n",
    "df_perf_metrics = pd.DataFrame(columns=['Model','R2','MSE', 'MAE', 'RMSE'])# set the column of data frame\n",
    "model_name = ['Baseline model', 'Linear Regression',  'Random Forest','KNN' , 'GBR' , 'XGB']\n",
    "model_pred = [baseline_model_pred, linear_pred, random_predict, preds_knn_reg ,preds_gbr_reg ,xgb_pred]\n",
    "\n",
    "def get_perf_metrics(model, n):# create function\n",
    "    Adj_r2 = 1 - (1-r2_score(y_test, model_pred[n])) * (len(y_test)-1)/(len(y_test)-X_test.shape[1]-1)\n",
    "    \n",
    "    df_perf_metrics.loc[n] = [\n",
    "        model_name[n],\n",
    "        r2_score(y_test, model_pred[n]),\n",
    "        mean_squared_error(y_test, model_pred[n]),\n",
    "        mean_absolute_error(y_test, model_pred[n]),\n",
    "        np.sqrt(mean_squared_error(y_test, model_pred[n])),\n",
    "       # Adj_r2\n",
    "    ]\n",
    "        \n",
    "                \n",
    "for n, model in enumerate(model_name):\n",
    "    get_perf_metrics(model, n)"
   ]
  },
  {
   "cell_type": "code",
   "execution_count": 34,
   "id": "3385dbe7",
   "metadata": {},
   "outputs": [
    {
     "data": {
      "text/html": [
       "<div>\n",
       "<style scoped>\n",
       "    .dataframe tbody tr th:only-of-type {\n",
       "        vertical-align: middle;\n",
       "    }\n",
       "\n",
       "    .dataframe tbody tr th {\n",
       "        vertical-align: top;\n",
       "    }\n",
       "\n",
       "    .dataframe thead th {\n",
       "        text-align: right;\n",
       "    }\n",
       "</style>\n",
       "<table border=\"1\" class=\"dataframe\">\n",
       "  <thead>\n",
       "    <tr style=\"text-align: right;\">\n",
       "      <th></th>\n",
       "      <th>Model</th>\n",
       "      <th>R2</th>\n",
       "      <th>MSE</th>\n",
       "      <th>MAE</th>\n",
       "      <th>RMSE</th>\n",
       "    </tr>\n",
       "  </thead>\n",
       "  <tbody>\n",
       "    <tr>\n",
       "      <th>0</th>\n",
       "      <td>Baseline model</td>\n",
       "      <td>-0.000013</td>\n",
       "      <td>7217.246782</td>\n",
       "      <td>28.401061</td>\n",
       "      <td>84.954381</td>\n",
       "    </tr>\n",
       "    <tr>\n",
       "      <th>1</th>\n",
       "      <td>Linear Regression</td>\n",
       "      <td>0.999606</td>\n",
       "      <td>2.844279</td>\n",
       "      <td>0.426416</td>\n",
       "      <td>1.686499</td>\n",
       "    </tr>\n",
       "    <tr>\n",
       "      <th>2</th>\n",
       "      <td>Random Forest</td>\n",
       "      <td>0.987714</td>\n",
       "      <td>88.669023</td>\n",
       "      <td>5.829262</td>\n",
       "      <td>9.416423</td>\n",
       "    </tr>\n",
       "    <tr>\n",
       "      <th>3</th>\n",
       "      <td>KNN</td>\n",
       "      <td>0.999515</td>\n",
       "      <td>3.499833</td>\n",
       "      <td>0.301859</td>\n",
       "      <td>1.870784</td>\n",
       "    </tr>\n",
       "    <tr>\n",
       "      <th>4</th>\n",
       "      <td>GBR</td>\n",
       "      <td>0.999223</td>\n",
       "      <td>5.608330</td>\n",
       "      <td>0.671719</td>\n",
       "      <td>2.368191</td>\n",
       "    </tr>\n",
       "    <tr>\n",
       "      <th>5</th>\n",
       "      <td>XGB</td>\n",
       "      <td>0.999193</td>\n",
       "      <td>5.822290</td>\n",
       "      <td>0.399051</td>\n",
       "      <td>2.412942</td>\n",
       "    </tr>\n",
       "  </tbody>\n",
       "</table>\n",
       "</div>"
      ],
      "text/plain": [
       "               Model        R2          MSE        MAE       RMSE\n",
       "0     Baseline model -0.000013  7217.246782  28.401061  84.954381\n",
       "1  Linear Regression  0.999606     2.844279   0.426416   1.686499\n",
       "2      Random Forest  0.987714    88.669023   5.829262   9.416423\n",
       "3                KNN  0.999515     3.499833   0.301859   1.870784\n",
       "4                GBR  0.999223     5.608330   0.671719   2.368191\n",
       "5                XGB  0.999193     5.822290   0.399051   2.412942"
      ]
     },
     "execution_count": 34,
     "metadata": {},
     "output_type": "execute_result"
    }
   ],
   "source": [
    "# call the function\n",
    "df_perf_metrics"
   ]
  },
  {
   "cell_type": "markdown",
   "id": "25b56949",
   "metadata": {},
   "source": [
    "# ---------------------------------------------------------------------------------------"
   ]
  },
  {
   "cell_type": "markdown",
   "id": "9e19093a",
   "metadata": {},
   "source": [
    "# Model Selection \n",
    "#### After we created five regression models ( Linear, Random Forest, KNN, XGP, GBR ),  all these model values are positive.So, the regression model is better than the Baseline model\n",
    "#### We selected  Linear regression Model because give as the best Accuracy and  Error \n",
    "#### R Squared: 0.9996059 and  RMSE: 1.6864989051808341"
   ]
  },
  {
   "cell_type": "markdown",
   "id": "606e0cdc",
   "metadata": {},
   "source": [
    "# ----------------------------------------------------------------------------------------"
   ]
  },
  {
   "cell_type": "markdown",
   "id": "a9735d4e",
   "metadata": {},
   "source": [
    "## Model Optimization - Hyperparameter Tuning "
   ]
  },
  {
   "cell_type": "markdown",
   "id": "50f24a3a",
   "metadata": {},
   "source": [
    "## Linear Regression Model - Best Model"
   ]
  },
  {
   "cell_type": "code",
   "execution_count": 46,
   "id": "bcec15eb",
   "metadata": {},
   "outputs": [
    {
     "name": "stderr",
     "output_type": "stream",
     "text": [
      "C:\\Users\\DELL\\anaconda3\\lib\\site-packages\\sklearn\\model_selection\\_search.py:285: UserWarning: The total space of parameters 2 is smaller than n_iter=10. Running 2 iterations. For exhaustive searches, use GridSearchCV.\n",
      "  warnings.warn(\n"
     ]
    },
    {
     "name": "stdout",
     "output_type": "stream",
     "text": [
      "Fitting 5 folds for each of 2 candidates, totalling 10 fits\n"
     ]
    }
   ],
   "source": [
    "param_linear = {\"fit_intercept\": [True, False]}\n",
    "\n",
    "random_linear_reg = RandomizedSearchCV(liner,# set the model\n",
    "                                   param_linear,# set the parameter\n",
    "                                   scoring='r2',\n",
    "                                   verbose=1,\n",
    "                                   n_jobs=-1)\n",
    "\n",
    "# fit the model\n",
    "random_linear_reg.fit(X_train, y_train)\n",
    "# make the predication\n",
    "random = random_linear_reg.predict(X_test)"
   ]
  },
  {
   "cell_type": "code",
   "execution_count": 40,
   "id": "56821c95",
   "metadata": {},
   "outputs": [
    {
     "name": "stdout",
     "output_type": "stream",
     "text": [
      "R Squared: 0.999605900045618\n",
      "MSE: 2.844278557176044\n",
      "MAE: 0.4264164928631083\n",
      "RMSE: 1.6864989051808021\n",
      "Adjusted R Squared: 0.9996058918836075\n"
     ]
    }
   ],
   "source": [
    "## Call the funcation\n",
    "cost_function(random)"
   ]
  },
  {
   "cell_type": "markdown",
   "id": "1428a631",
   "metadata": {},
   "source": [
    "#### The accuracy score and the MSE , MAE , RMSE same as Linear regression nothing change"
   ]
  },
  {
   "cell_type": "markdown",
   "id": "73fce41a",
   "metadata": {},
   "source": [
    "##  Summary Results after tuning"
   ]
  },
  {
   "cell_type": "code",
   "execution_count": 41,
   "id": "4b5ef170",
   "metadata": {},
   "outputs": [],
   "source": [
    "# create a data frame to combine all model results\n",
    "df_perf_metrics = pd.DataFrame(columns=['Model','R2','MSE', 'MAE', 'RMSE'])# set the column of data frame\n",
    "model_name = ['Baseline model', 'Linear Regression','Linear Regression with tuning', 'Random Forest','KNN' , 'GBR' , 'XGB']\n",
    "model_pred = [baseline_model_pred, linear_pred, random, random_predict, preds_knn_reg ,preds_gbr_reg ,xgb_pred]\n",
    "\n",
    "def get_perf_metrics(model, n):# create function\n",
    "    Adj_r2 = 1 - (1-r2_score(y_test, model_pred[n])) * (len(y_test)-1)/(len(y_test)-X_test.shape[1]-1)\n",
    "    \n",
    "    df_perf_metrics.loc[n] = [\n",
    "        model_name[n],\n",
    "        r2_score(y_test, model_pred[n]),\n",
    "        mean_squared_error(y_test, model_pred[n]),\n",
    "        mean_absolute_error(y_test, model_pred[n]),\n",
    "        np.sqrt(mean_squared_error(y_test, model_pred[n])),\n",
    "       # Adj_r2\n",
    "    ]\n",
    "        \n",
    "                \n",
    "for n, model in enumerate(model_name):\n",
    "    get_perf_metrics(model, n)"
   ]
  },
  {
   "cell_type": "code",
   "execution_count": 42,
   "id": "95b17bd6",
   "metadata": {},
   "outputs": [
    {
     "data": {
      "text/html": [
       "<div>\n",
       "<style scoped>\n",
       "    .dataframe tbody tr th:only-of-type {\n",
       "        vertical-align: middle;\n",
       "    }\n",
       "\n",
       "    .dataframe tbody tr th {\n",
       "        vertical-align: top;\n",
       "    }\n",
       "\n",
       "    .dataframe thead th {\n",
       "        text-align: right;\n",
       "    }\n",
       "</style>\n",
       "<table border=\"1\" class=\"dataframe\">\n",
       "  <thead>\n",
       "    <tr style=\"text-align: right;\">\n",
       "      <th></th>\n",
       "      <th>Model</th>\n",
       "      <th>R2</th>\n",
       "      <th>MSE</th>\n",
       "      <th>MAE</th>\n",
       "      <th>RMSE</th>\n",
       "    </tr>\n",
       "  </thead>\n",
       "  <tbody>\n",
       "    <tr>\n",
       "      <th>0</th>\n",
       "      <td>Baseline model</td>\n",
       "      <td>-0.000013</td>\n",
       "      <td>7217.246782</td>\n",
       "      <td>28.401061</td>\n",
       "      <td>84.954381</td>\n",
       "    </tr>\n",
       "    <tr>\n",
       "      <th>1</th>\n",
       "      <td>Linear Regression</td>\n",
       "      <td>0.999606</td>\n",
       "      <td>2.844279</td>\n",
       "      <td>0.426416</td>\n",
       "      <td>1.686499</td>\n",
       "    </tr>\n",
       "    <tr>\n",
       "      <th>2</th>\n",
       "      <td>Linear Regression with tuning</td>\n",
       "      <td>0.999606</td>\n",
       "      <td>2.844279</td>\n",
       "      <td>0.426416</td>\n",
       "      <td>1.686499</td>\n",
       "    </tr>\n",
       "    <tr>\n",
       "      <th>3</th>\n",
       "      <td>Random Forest</td>\n",
       "      <td>0.987714</td>\n",
       "      <td>88.669023</td>\n",
       "      <td>5.829262</td>\n",
       "      <td>9.416423</td>\n",
       "    </tr>\n",
       "    <tr>\n",
       "      <th>4</th>\n",
       "      <td>KNN</td>\n",
       "      <td>0.999515</td>\n",
       "      <td>3.499833</td>\n",
       "      <td>0.301859</td>\n",
       "      <td>1.870784</td>\n",
       "    </tr>\n",
       "    <tr>\n",
       "      <th>5</th>\n",
       "      <td>GBR</td>\n",
       "      <td>0.999223</td>\n",
       "      <td>5.608330</td>\n",
       "      <td>0.671719</td>\n",
       "      <td>2.368191</td>\n",
       "    </tr>\n",
       "    <tr>\n",
       "      <th>6</th>\n",
       "      <td>XGB</td>\n",
       "      <td>0.999193</td>\n",
       "      <td>5.822290</td>\n",
       "      <td>0.399051</td>\n",
       "      <td>2.412942</td>\n",
       "    </tr>\n",
       "  </tbody>\n",
       "</table>\n",
       "</div>"
      ],
      "text/plain": [
       "                           Model        R2          MSE        MAE       RMSE\n",
       "0                 Baseline model -0.000013  7217.246782  28.401061  84.954381\n",
       "1              Linear Regression  0.999606     2.844279   0.426416   1.686499\n",
       "2  Linear Regression with tuning  0.999606     2.844279   0.426416   1.686499\n",
       "3                  Random Forest  0.987714    88.669023   5.829262   9.416423\n",
       "4                            KNN  0.999515     3.499833   0.301859   1.870784\n",
       "5                            GBR  0.999223     5.608330   0.671719   2.368191\n",
       "6                            XGB  0.999193     5.822290   0.399051   2.412942"
      ]
     },
     "execution_count": 42,
     "metadata": {},
     "output_type": "execute_result"
    }
   ],
   "source": [
    "# call the function\n",
    "df_perf_metrics"
   ]
  },
  {
   "cell_type": "markdown",
   "id": "057ff1b5",
   "metadata": {},
   "source": [
    "# ---------------------------------------------------------------------------------------"
   ]
  },
  {
   "cell_type": "markdown",
   "id": "83535a28",
   "metadata": {},
   "source": [
    "# ML Pipeline for Best Model - Linear Regression"
   ]
  },
  {
   "cell_type": "code",
   "execution_count": 26,
   "id": "adb8709a",
   "metadata": {},
   "outputs": [],
   "source": [
    "numeric_features = X_train.describe().columns # Select the numrical feature\n",
    "\n",
    "\n",
    "\n",
    "#Create Transformer for numerical data\n",
    "numeric_transformer = Pipeline(\n",
    "    steps=[\n",
    "        ('imputer', SimpleImputer(strategy=\"most_frequent\")),\n",
    "        ('scaler', StandardScaler())\n",
    "    ]\n",
    ")\n",
    "\n",
    "\n",
    "\n",
    "# Create a preprocessor transformer\n",
    "preprocessor = ColumnTransformer(\n",
    "    transformers=[\n",
    "        ('num', numeric_transformer, numeric_features),\n",
    "        \n",
    "    ]\n",
    ")\n",
    "# create the pipline\n",
    "liner_reg_pp = Pipeline(\n",
    "    steps=[\n",
    "        ('preprocessor', preprocessor),# set the preprocessor\n",
    "        \n",
    "        ('reg',LinearRegression())# Create the Liner regression model\n",
    "    ]\n",
    ")"
   ]
  },
  {
   "cell_type": "markdown",
   "id": "6276bcf2",
   "metadata": {},
   "source": [
    "## Fit the model"
   ]
  },
  {
   "cell_type": "code",
   "execution_count": 28,
   "id": "a5f10a0f",
   "metadata": {},
   "outputs": [
    {
     "data": {
      "text/plain": [
       "Pipeline(steps=[('preprocessor',\n",
       "                 ColumnTransformer(transformers=[('num',\n",
       "                                                  Pipeline(steps=[('imputer',\n",
       "                                                                   SimpleImputer(strategy='most_frequent')),\n",
       "                                                                  ('scaler',\n",
       "                                                                   StandardScaler())]),\n",
       "                                                  Index(['open_price', 'low_price', 'change'], dtype='object'))])),\n",
       "                ('reg', LinearRegression())])"
      ]
     },
     "execution_count": 28,
     "metadata": {},
     "output_type": "execute_result"
    }
   ],
   "source": [
    "liner_reg_pp.fit(X_train,y_train)"
   ]
  },
  {
   "cell_type": "code",
   "execution_count": 29,
   "id": "104af03e",
   "metadata": {},
   "outputs": [],
   "source": [
    "# The predication X test feature\n",
    "pipline_predict=liner_reg_pp.predict(X_test)"
   ]
  },
  {
   "cell_type": "markdown",
   "id": "4b86e928",
   "metadata": {},
   "source": [
    "### Model Evaluation"
   ]
  },
  {
   "cell_type": "code",
   "execution_count": 30,
   "id": "31530749",
   "metadata": {},
   "outputs": [
    {
     "name": "stdout",
     "output_type": "stream",
     "text": [
      "R Squared: 0.999605900045618\n",
      "MSE: 2.8442785571761515\n",
      "MAE: 0.4264164928631796\n",
      "RMSE: 1.686498905180834\n",
      "Adjusted R Squared: 0.9996058918836075\n"
     ]
    }
   ],
   "source": [
    "## Call the funcation\n",
    "cost_function(pipline_predict)"
   ]
  },
  {
   "cell_type": "markdown",
   "id": "8739c462",
   "metadata": {},
   "source": [
    "### Summary of our finding:"
   ]
  },
  {
   "cell_type": "markdown",
   "id": "0b19eb0f",
   "metadata": {},
   "source": [
    "We have tried several regression models to come up with the best model that can predict the closing price of stucks with the highest score and the least possible error.\n",
    "\n",
    "We found that the linear regression is the best model, as it achieved the highest score equal to 0.9996, and a low error in error measures, as it achieved 2.8 MSE, 0.42 MSA, and 1.6 RMSE. It is followed by KNN, which achieved a score of 0.9995 and 1.8 RMSE. Followed by the GBR and XGB, which achieved a score of 0.9992 and RMSE 2.3, the worst model was the Random Forest with 0.9877 score and 9.4 RMSE.\n",
    "\n",
    "We select the Linear regression as the best model based on the lowest value in the Root Mean Squared Error (RMSE)."
   ]
  }
 ],
 "metadata": {
  "kernelspec": {
   "display_name": "Python 3",
   "language": "python",
   "name": "python3"
  },
  "language_info": {
   "codemirror_mode": {
    "name": "ipython",
    "version": 3
   },
   "file_extension": ".py",
   "mimetype": "text/x-python",
   "name": "python",
   "nbconvert_exporter": "python",
   "pygments_lexer": "ipython3",
   "version": "3.8.8"
  }
 },
 "nbformat": 4,
 "nbformat_minor": 5
}
